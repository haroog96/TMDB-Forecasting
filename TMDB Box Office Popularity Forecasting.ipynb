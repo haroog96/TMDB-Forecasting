{
 "cells": [
  {
   "cell_type": "code",
   "execution_count": 1,
   "id": "13635903",
   "metadata": {},
   "outputs": [
    {
     "name": "stdout",
     "output_type": "stream",
     "text": [
      "Requirement already satisfied: pandas in c:\\users\\harsh\\appdata\\local\\programs\\python\\python37\\lib\\site-packages (1.1.5)\n",
      "Requirement already satisfied: numpy>=1.15.4 in c:\\users\\harsh\\appdata\\local\\programs\\python\\python37\\lib\\site-packages (from pandas) (1.21.4)\n",
      "Requirement already satisfied: python-dateutil>=2.7.3 in c:\\users\\harsh\\appdata\\local\\programs\\python\\python37\\lib\\site-packages (from pandas) (2.8.2)\n",
      "Requirement already satisfied: pytz>=2017.2 in c:\\users\\harsh\\appdata\\local\\programs\\python\\python37\\lib\\site-packages (from pandas) (2021.3)\n",
      "Requirement already satisfied: six>=1.5 in c:\\users\\harsh\\appdata\\local\\programs\\python\\python37\\lib\\site-packages (from python-dateutil>=2.7.3->pandas) (1.16.0)\n"
     ]
    }
   ],
   "source": [
    "!pip install pandas"
   ]
  },
  {
   "cell_type": "markdown",
   "id": "ba4a8c82",
   "metadata": {},
   "source": [
    "### Importing libraries"
   ]
  },
  {
   "cell_type": "code",
   "execution_count": 2,
   "id": "95f40720",
   "metadata": {},
   "outputs": [],
   "source": [
    "import pandas as pd"
   ]
  },
  {
   "cell_type": "markdown",
   "id": "3ce65d64",
   "metadata": {},
   "source": [
    "### Importing Data and Data Understanding"
   ]
  },
  {
   "cell_type": "code",
   "execution_count": 3,
   "id": "8dd23a76",
   "metadata": {},
   "outputs": [
    {
     "data": {
      "text/html": [
       "<div>\n",
       "<style scoped>\n",
       "    .dataframe tbody tr th:only-of-type {\n",
       "        vertical-align: middle;\n",
       "    }\n",
       "\n",
       "    .dataframe tbody tr th {\n",
       "        vertical-align: top;\n",
       "    }\n",
       "\n",
       "    .dataframe thead th {\n",
       "        text-align: right;\n",
       "    }\n",
       "</style>\n",
       "<table border=\"1\" class=\"dataframe\">\n",
       "  <thead>\n",
       "    <tr style=\"text-align: right;\">\n",
       "      <th></th>\n",
       "      <th>id</th>\n",
       "      <th>budget</th>\n",
       "      <th>popularity</th>\n",
       "      <th>runtime</th>\n",
       "      <th>revenue</th>\n",
       "    </tr>\n",
       "  </thead>\n",
       "  <tbody>\n",
       "    <tr>\n",
       "      <th>count</th>\n",
       "      <td>3000.000000</td>\n",
       "      <td>3.000000e+03</td>\n",
       "      <td>3000.000000</td>\n",
       "      <td>2998.000000</td>\n",
       "      <td>3.000000e+03</td>\n",
       "    </tr>\n",
       "    <tr>\n",
       "      <th>mean</th>\n",
       "      <td>1500.500000</td>\n",
       "      <td>2.253133e+07</td>\n",
       "      <td>8.463274</td>\n",
       "      <td>107.856571</td>\n",
       "      <td>6.672585e+07</td>\n",
       "    </tr>\n",
       "    <tr>\n",
       "      <th>std</th>\n",
       "      <td>866.169729</td>\n",
       "      <td>3.702609e+07</td>\n",
       "      <td>12.104000</td>\n",
       "      <td>22.086434</td>\n",
       "      <td>1.375323e+08</td>\n",
       "    </tr>\n",
       "    <tr>\n",
       "      <th>min</th>\n",
       "      <td>1.000000</td>\n",
       "      <td>0.000000e+00</td>\n",
       "      <td>0.000001</td>\n",
       "      <td>0.000000</td>\n",
       "      <td>1.000000e+00</td>\n",
       "    </tr>\n",
       "    <tr>\n",
       "      <th>25%</th>\n",
       "      <td>750.750000</td>\n",
       "      <td>0.000000e+00</td>\n",
       "      <td>4.018053</td>\n",
       "      <td>94.000000</td>\n",
       "      <td>2.379808e+06</td>\n",
       "    </tr>\n",
       "    <tr>\n",
       "      <th>50%</th>\n",
       "      <td>1500.500000</td>\n",
       "      <td>8.000000e+06</td>\n",
       "      <td>7.374861</td>\n",
       "      <td>104.000000</td>\n",
       "      <td>1.680707e+07</td>\n",
       "    </tr>\n",
       "    <tr>\n",
       "      <th>75%</th>\n",
       "      <td>2250.250000</td>\n",
       "      <td>2.900000e+07</td>\n",
       "      <td>10.890983</td>\n",
       "      <td>118.000000</td>\n",
       "      <td>6.891920e+07</td>\n",
       "    </tr>\n",
       "    <tr>\n",
       "      <th>max</th>\n",
       "      <td>3000.000000</td>\n",
       "      <td>3.800000e+08</td>\n",
       "      <td>294.337037</td>\n",
       "      <td>338.000000</td>\n",
       "      <td>1.519558e+09</td>\n",
       "    </tr>\n",
       "  </tbody>\n",
       "</table>\n",
       "</div>"
      ],
      "text/plain": [
       "                id        budget   popularity      runtime       revenue\n",
       "count  3000.000000  3.000000e+03  3000.000000  2998.000000  3.000000e+03\n",
       "mean   1500.500000  2.253133e+07     8.463274   107.856571  6.672585e+07\n",
       "std     866.169729  3.702609e+07    12.104000    22.086434  1.375323e+08\n",
       "min       1.000000  0.000000e+00     0.000001     0.000000  1.000000e+00\n",
       "25%     750.750000  0.000000e+00     4.018053    94.000000  2.379808e+06\n",
       "50%    1500.500000  8.000000e+06     7.374861   104.000000  1.680707e+07\n",
       "75%    2250.250000  2.900000e+07    10.890983   118.000000  6.891920e+07\n",
       "max    3000.000000  3.800000e+08   294.337037   338.000000  1.519558e+09"
      ]
     },
     "execution_count": 3,
     "metadata": {},
     "output_type": "execute_result"
    }
   ],
   "source": [
    "Data_1 = pd.read_csv(\"C:/Users/harsh/OneDrive/Documents/Kaggle/TMDB Forecasting/tmdb-box-office-prediction/train.csv\")\n",
    "Data_1.describe()"
   ]
  },
  {
   "cell_type": "code",
   "execution_count": 4,
   "id": "bb1a8153",
   "metadata": {},
   "outputs": [
    {
     "name": "stdout",
     "output_type": "stream",
     "text": [
      "<class 'pandas.core.frame.DataFrame'>\n",
      "RangeIndex: 3000 entries, 0 to 2999\n",
      "Data columns (total 23 columns):\n",
      " #   Column                 Non-Null Count  Dtype  \n",
      "---  ------                 --------------  -----  \n",
      " 0   id                     3000 non-null   int64  \n",
      " 1   belongs_to_collection  604 non-null    object \n",
      " 2   budget                 3000 non-null   int64  \n",
      " 3   genres                 2993 non-null   object \n",
      " 4   homepage               946 non-null    object \n",
      " 5   imdb_id                3000 non-null   object \n",
      " 6   original_language      3000 non-null   object \n",
      " 7   original_title         3000 non-null   object \n",
      " 8   overview               2992 non-null   object \n",
      " 9   popularity             3000 non-null   float64\n",
      " 10  poster_path            2999 non-null   object \n",
      " 11  production_companies   2844 non-null   object \n",
      " 12  production_countries   2945 non-null   object \n",
      " 13  release_date           3000 non-null   object \n",
      " 14  runtime                2998 non-null   float64\n",
      " 15  spoken_languages       2980 non-null   object \n",
      " 16  status                 3000 non-null   object \n",
      " 17  tagline                2403 non-null   object \n",
      " 18  title                  3000 non-null   object \n",
      " 19  Keywords               2724 non-null   object \n",
      " 20  cast                   2987 non-null   object \n",
      " 21  crew                   2984 non-null   object \n",
      " 22  revenue                3000 non-null   int64  \n",
      "dtypes: float64(2), int64(3), object(18)\n",
      "memory usage: 539.2+ KB\n"
     ]
    }
   ],
   "source": [
    "Data_1.info()"
   ]
  },
  {
   "cell_type": "code",
   "execution_count": 5,
   "id": "4704bd7d",
   "metadata": {},
   "outputs": [
    {
     "data": {
      "text/html": [
       "<div>\n",
       "<style scoped>\n",
       "    .dataframe tbody tr th:only-of-type {\n",
       "        vertical-align: middle;\n",
       "    }\n",
       "\n",
       "    .dataframe tbody tr th {\n",
       "        vertical-align: top;\n",
       "    }\n",
       "\n",
       "    .dataframe thead th {\n",
       "        text-align: right;\n",
       "    }\n",
       "</style>\n",
       "<table border=\"1\" class=\"dataframe\">\n",
       "  <thead>\n",
       "    <tr style=\"text-align: right;\">\n",
       "      <th></th>\n",
       "      <th>id</th>\n",
       "      <th>belongs_to_collection</th>\n",
       "      <th>budget</th>\n",
       "      <th>genres</th>\n",
       "      <th>homepage</th>\n",
       "      <th>imdb_id</th>\n",
       "      <th>original_language</th>\n",
       "      <th>original_title</th>\n",
       "      <th>overview</th>\n",
       "      <th>popularity</th>\n",
       "      <th>...</th>\n",
       "      <th>release_date</th>\n",
       "      <th>runtime</th>\n",
       "      <th>spoken_languages</th>\n",
       "      <th>status</th>\n",
       "      <th>tagline</th>\n",
       "      <th>title</th>\n",
       "      <th>Keywords</th>\n",
       "      <th>cast</th>\n",
       "      <th>crew</th>\n",
       "      <th>revenue</th>\n",
       "    </tr>\n",
       "  </thead>\n",
       "  <tbody>\n",
       "    <tr>\n",
       "      <th>0</th>\n",
       "      <td>1</td>\n",
       "      <td>[{'id': 313576, 'name': 'Hot Tub Time Machine ...</td>\n",
       "      <td>14000000</td>\n",
       "      <td>[{'id': 35, 'name': 'Comedy'}]</td>\n",
       "      <td>NaN</td>\n",
       "      <td>tt2637294</td>\n",
       "      <td>en</td>\n",
       "      <td>Hot Tub Time Machine 2</td>\n",
       "      <td>When Lou, who has become the \"father of the In...</td>\n",
       "      <td>6.575393</td>\n",
       "      <td>...</td>\n",
       "      <td>2/20/15</td>\n",
       "      <td>93.0</td>\n",
       "      <td>[{'iso_639_1': 'en', 'name': 'English'}]</td>\n",
       "      <td>Released</td>\n",
       "      <td>The Laws of Space and Time are About to be Vio...</td>\n",
       "      <td>Hot Tub Time Machine 2</td>\n",
       "      <td>[{'id': 4379, 'name': 'time travel'}, {'id': 9...</td>\n",
       "      <td>[{'cast_id': 4, 'character': 'Lou', 'credit_id...</td>\n",
       "      <td>[{'credit_id': '59ac067c92514107af02c8c8', 'de...</td>\n",
       "      <td>12314651</td>\n",
       "    </tr>\n",
       "    <tr>\n",
       "      <th>1</th>\n",
       "      <td>2</td>\n",
       "      <td>[{'id': 107674, 'name': 'The Princess Diaries ...</td>\n",
       "      <td>40000000</td>\n",
       "      <td>[{'id': 35, 'name': 'Comedy'}, {'id': 18, 'nam...</td>\n",
       "      <td>NaN</td>\n",
       "      <td>tt0368933</td>\n",
       "      <td>en</td>\n",
       "      <td>The Princess Diaries 2: Royal Engagement</td>\n",
       "      <td>Mia Thermopolis is now a college graduate and ...</td>\n",
       "      <td>8.248895</td>\n",
       "      <td>...</td>\n",
       "      <td>8/6/04</td>\n",
       "      <td>113.0</td>\n",
       "      <td>[{'iso_639_1': 'en', 'name': 'English'}]</td>\n",
       "      <td>Released</td>\n",
       "      <td>It can take a lifetime to find true love; she'...</td>\n",
       "      <td>The Princess Diaries 2: Royal Engagement</td>\n",
       "      <td>[{'id': 2505, 'name': 'coronation'}, {'id': 42...</td>\n",
       "      <td>[{'cast_id': 1, 'character': 'Mia Thermopolis'...</td>\n",
       "      <td>[{'credit_id': '52fe43fe9251416c7502563d', 'de...</td>\n",
       "      <td>95149435</td>\n",
       "    </tr>\n",
       "    <tr>\n",
       "      <th>2</th>\n",
       "      <td>3</td>\n",
       "      <td>NaN</td>\n",
       "      <td>3300000</td>\n",
       "      <td>[{'id': 18, 'name': 'Drama'}]</td>\n",
       "      <td>http://sonyclassics.com/whiplash/</td>\n",
       "      <td>tt2582802</td>\n",
       "      <td>en</td>\n",
       "      <td>Whiplash</td>\n",
       "      <td>Under the direction of a ruthless instructor, ...</td>\n",
       "      <td>64.299990</td>\n",
       "      <td>...</td>\n",
       "      <td>10/10/14</td>\n",
       "      <td>105.0</td>\n",
       "      <td>[{'iso_639_1': 'en', 'name': 'English'}]</td>\n",
       "      <td>Released</td>\n",
       "      <td>The road to greatness can take you to the edge.</td>\n",
       "      <td>Whiplash</td>\n",
       "      <td>[{'id': 1416, 'name': 'jazz'}, {'id': 1523, 'n...</td>\n",
       "      <td>[{'cast_id': 5, 'character': 'Andrew Neimann',...</td>\n",
       "      <td>[{'credit_id': '54d5356ec3a3683ba0000039', 'de...</td>\n",
       "      <td>13092000</td>\n",
       "    </tr>\n",
       "  </tbody>\n",
       "</table>\n",
       "<p>3 rows × 23 columns</p>\n",
       "</div>"
      ],
      "text/plain": [
       "   id                              belongs_to_collection    budget  \\\n",
       "0   1  [{'id': 313576, 'name': 'Hot Tub Time Machine ...  14000000   \n",
       "1   2  [{'id': 107674, 'name': 'The Princess Diaries ...  40000000   \n",
       "2   3                                                NaN   3300000   \n",
       "\n",
       "                                              genres  \\\n",
       "0                     [{'id': 35, 'name': 'Comedy'}]   \n",
       "1  [{'id': 35, 'name': 'Comedy'}, {'id': 18, 'nam...   \n",
       "2                      [{'id': 18, 'name': 'Drama'}]   \n",
       "\n",
       "                            homepage    imdb_id original_language  \\\n",
       "0                                NaN  tt2637294                en   \n",
       "1                                NaN  tt0368933                en   \n",
       "2  http://sonyclassics.com/whiplash/  tt2582802                en   \n",
       "\n",
       "                             original_title  \\\n",
       "0                    Hot Tub Time Machine 2   \n",
       "1  The Princess Diaries 2: Royal Engagement   \n",
       "2                                  Whiplash   \n",
       "\n",
       "                                            overview  popularity  ...  \\\n",
       "0  When Lou, who has become the \"father of the In...    6.575393  ...   \n",
       "1  Mia Thermopolis is now a college graduate and ...    8.248895  ...   \n",
       "2  Under the direction of a ruthless instructor, ...   64.299990  ...   \n",
       "\n",
       "  release_date runtime                          spoken_languages    status  \\\n",
       "0      2/20/15    93.0  [{'iso_639_1': 'en', 'name': 'English'}]  Released   \n",
       "1       8/6/04   113.0  [{'iso_639_1': 'en', 'name': 'English'}]  Released   \n",
       "2     10/10/14   105.0  [{'iso_639_1': 'en', 'name': 'English'}]  Released   \n",
       "\n",
       "                                             tagline  \\\n",
       "0  The Laws of Space and Time are About to be Vio...   \n",
       "1  It can take a lifetime to find true love; she'...   \n",
       "2    The road to greatness can take you to the edge.   \n",
       "\n",
       "                                      title  \\\n",
       "0                    Hot Tub Time Machine 2   \n",
       "1  The Princess Diaries 2: Royal Engagement   \n",
       "2                                  Whiplash   \n",
       "\n",
       "                                            Keywords  \\\n",
       "0  [{'id': 4379, 'name': 'time travel'}, {'id': 9...   \n",
       "1  [{'id': 2505, 'name': 'coronation'}, {'id': 42...   \n",
       "2  [{'id': 1416, 'name': 'jazz'}, {'id': 1523, 'n...   \n",
       "\n",
       "                                                cast  \\\n",
       "0  [{'cast_id': 4, 'character': 'Lou', 'credit_id...   \n",
       "1  [{'cast_id': 1, 'character': 'Mia Thermopolis'...   \n",
       "2  [{'cast_id': 5, 'character': 'Andrew Neimann',...   \n",
       "\n",
       "                                                crew   revenue  \n",
       "0  [{'credit_id': '59ac067c92514107af02c8c8', 'de...  12314651  \n",
       "1  [{'credit_id': '52fe43fe9251416c7502563d', 'de...  95149435  \n",
       "2  [{'credit_id': '54d5356ec3a3683ba0000039', 'de...  13092000  \n",
       "\n",
       "[3 rows x 23 columns]"
      ]
     },
     "execution_count": 5,
     "metadata": {},
     "output_type": "execute_result"
    }
   ],
   "source": [
    "Data_1.head(3)"
   ]
  },
  {
   "cell_type": "markdown",
   "id": "d526e124",
   "metadata": {},
   "source": [
    "## Data Cleaning & Manipulation"
   ]
  },
  {
   "cell_type": "markdown",
   "id": "c0a05ed8",
   "metadata": {},
   "source": [
    "#### Remove null columns & entries!"
   ]
  },
  {
   "cell_type": "code",
   "execution_count": 6,
   "id": "0c32932f",
   "metadata": {},
   "outputs": [
    {
     "data": {
      "text/plain": [
       "(2804, 23)"
      ]
     },
     "execution_count": 6,
     "metadata": {},
     "output_type": "execute_result"
    }
   ],
   "source": [
    "Data_2 = Data_1\n",
    "Data_3 = Data_2.dropna(subset = ['genres', 'overview', 'runtime', 'release_date', 'title', 'cast','crew','spoken_languages','production_companies','production_countries'],how = \"any\")\n",
    "Data_3.isna().sum()\n",
    "Data_3.shape\n",
    "# 196 rows removed"
   ]
  },
  {
   "cell_type": "markdown",
   "id": "90659537",
   "metadata": {},
   "source": [
    "#### Parse the data into individual columns for each Genre!"
   ]
  },
  {
   "cell_type": "code",
   "execution_count": 7,
   "id": "358fa0ee",
   "metadata": {},
   "outputs": [
    {
     "name": "stderr",
     "output_type": "stream",
     "text": [
      "c:\\users\\harsh\\appdata\\local\\programs\\python\\python37\\lib\\site-packages\\ipykernel_launcher.py:3: SettingWithCopyWarning: \n",
      "A value is trying to be set on a copy of a slice from a DataFrame.\n",
      "Try using .loc[row_indexer,col_indexer] = value instead\n",
      "\n",
      "See the caveats in the documentation: https://pandas.pydata.org/pandas-docs/stable/user_guide/indexing.html#returning-a-view-versus-a-copy\n",
      "  This is separate from the ipykernel package so we can avoid doing imports until\n",
      "c:\\users\\harsh\\appdata\\local\\programs\\python\\python37\\lib\\site-packages\\ipykernel_launcher.py:4: SettingWithCopyWarning: \n",
      "A value is trying to be set on a copy of a slice from a DataFrame.\n",
      "Try using .loc[row_indexer,col_indexer] = value instead\n",
      "\n",
      "See the caveats in the documentation: https://pandas.pydata.org/pandas-docs/stable/user_guide/indexing.html#returning-a-view-versus-a-copy\n",
      "  after removing the cwd from sys.path.\n"
     ]
    }
   ],
   "source": [
    "import json\n",
    "\n",
    "Data_3['genres_3'] = Data_3['genres'].str.replace(\"'\",'\"')\n",
    "Data_3['genres_4'] = Data_3['genres_3'].apply(json.loads)"
   ]
  },
  {
   "cell_type": "markdown",
   "id": "392608e2",
   "metadata": {},
   "source": [
    "### Making a term document matrix for the Genres"
   ]
  },
  {
   "cell_type": "code",
   "execution_count": 8,
   "id": "e97d68a9",
   "metadata": {},
   "outputs": [
    {
     "name": "stdout",
     "output_type": "stream",
     "text": [
      "Requirement already satisfied: sklearn in c:\\users\\harsh\\appdata\\local\\programs\\python\\python37\\lib\\site-packages (0.0)\n",
      "Requirement already satisfied: scikit-learn in c:\\users\\harsh\\appdata\\local\\programs\\python\\python37\\lib\\site-packages (from sklearn) (1.0.1)\n",
      "Requirement already satisfied: threadpoolctl>=2.0.0 in c:\\users\\harsh\\appdata\\local\\programs\\python\\python37\\lib\\site-packages (from scikit-learn->sklearn) (3.0.0)\n",
      "Requirement already satisfied: numpy>=1.14.6 in c:\\users\\harsh\\appdata\\local\\programs\\python\\python37\\lib\\site-packages (from scikit-learn->sklearn) (1.21.4)\n",
      "Requirement already satisfied: scipy>=1.1.0 in c:\\users\\harsh\\appdata\\local\\programs\\python\\python37\\lib\\site-packages (from scikit-learn->sklearn) (1.7.2)\n",
      "Requirement already satisfied: joblib>=0.11 in c:\\users\\harsh\\appdata\\local\\programs\\python\\python37\\lib\\site-packages (from scikit-learn->sklearn) (1.1.0)\n",
      "Note: you may need to restart the kernel to use updated packages.\n"
     ]
    }
   ],
   "source": [
    "pip install sklearn"
   ]
  },
  {
   "cell_type": "code",
   "execution_count": 9,
   "id": "55d91846",
   "metadata": {
    "scrolled": true
   },
   "outputs": [
    {
     "name": "stderr",
     "output_type": "stream",
     "text": [
      "c:\\users\\harsh\\appdata\\local\\programs\\python\\python37\\lib\\site-packages\\sklearn\\utils\\deprecation.py:87: FutureWarning: Function get_feature_names is deprecated; get_feature_names is deprecated in 1.0 and will be removed in 1.2. Please use get_feature_names_out instead.\n",
      "  warnings.warn(msg, category=FutureWarning)\n"
     ]
    },
    {
     "data": {
      "text/html": [
       "<div>\n",
       "<style scoped>\n",
       "    .dataframe tbody tr th:only-of-type {\n",
       "        vertical-align: middle;\n",
       "    }\n",
       "\n",
       "    .dataframe tbody tr th {\n",
       "        vertical-align: top;\n",
       "    }\n",
       "\n",
       "    .dataframe thead th {\n",
       "        text-align: right;\n",
       "    }\n",
       "</style>\n",
       "<table border=\"1\" class=\"dataframe\">\n",
       "  <thead>\n",
       "    <tr style=\"text-align: right;\">\n",
       "      <th></th>\n",
       "      <th>id</th>\n",
       "      <th>belongs_to_collection</th>\n",
       "      <th>budget</th>\n",
       "      <th>genres</th>\n",
       "      <th>homepage</th>\n",
       "      <th>imdb_id</th>\n",
       "      <th>original_language</th>\n",
       "      <th>original_title</th>\n",
       "      <th>overview</th>\n",
       "      <th>popularity</th>\n",
       "      <th>...</th>\n",
       "      <th>movie</th>\n",
       "      <th>music</th>\n",
       "      <th>mystery</th>\n",
       "      <th>name</th>\n",
       "      <th>romance</th>\n",
       "      <th>science</th>\n",
       "      <th>thriller</th>\n",
       "      <th>tv</th>\n",
       "      <th>war</th>\n",
       "      <th>western</th>\n",
       "    </tr>\n",
       "  </thead>\n",
       "  <tbody>\n",
       "    <tr>\n",
       "      <th>0</th>\n",
       "      <td>1</td>\n",
       "      <td>[{'id': 313576, 'name': 'Hot Tub Time Machine ...</td>\n",
       "      <td>14000000</td>\n",
       "      <td>[{'id': 35, 'name': 'Comedy'}]</td>\n",
       "      <td>NaN</td>\n",
       "      <td>tt2637294</td>\n",
       "      <td>en</td>\n",
       "      <td>Hot Tub Time Machine 2</td>\n",
       "      <td>When Lou, who has become the \"father of the In...</td>\n",
       "      <td>6.575393</td>\n",
       "      <td>...</td>\n",
       "      <td>0</td>\n",
       "      <td>0</td>\n",
       "      <td>0</td>\n",
       "      <td>1</td>\n",
       "      <td>0</td>\n",
       "      <td>0</td>\n",
       "      <td>0</td>\n",
       "      <td>0</td>\n",
       "      <td>0</td>\n",
       "      <td>0</td>\n",
       "    </tr>\n",
       "    <tr>\n",
       "      <th>1</th>\n",
       "      <td>2</td>\n",
       "      <td>[{'id': 107674, 'name': 'The Princess Diaries ...</td>\n",
       "      <td>40000000</td>\n",
       "      <td>[{'id': 35, 'name': 'Comedy'}, {'id': 18, 'nam...</td>\n",
       "      <td>NaN</td>\n",
       "      <td>tt0368933</td>\n",
       "      <td>en</td>\n",
       "      <td>The Princess Diaries 2: Royal Engagement</td>\n",
       "      <td>Mia Thermopolis is now a college graduate and ...</td>\n",
       "      <td>8.248895</td>\n",
       "      <td>...</td>\n",
       "      <td>0</td>\n",
       "      <td>0</td>\n",
       "      <td>0</td>\n",
       "      <td>4</td>\n",
       "      <td>1</td>\n",
       "      <td>0</td>\n",
       "      <td>0</td>\n",
       "      <td>0</td>\n",
       "      <td>0</td>\n",
       "      <td>0</td>\n",
       "    </tr>\n",
       "    <tr>\n",
       "      <th>2</th>\n",
       "      <td>3</td>\n",
       "      <td>NaN</td>\n",
       "      <td>3300000</td>\n",
       "      <td>[{'id': 18, 'name': 'Drama'}]</td>\n",
       "      <td>http://sonyclassics.com/whiplash/</td>\n",
       "      <td>tt2582802</td>\n",
       "      <td>en</td>\n",
       "      <td>Whiplash</td>\n",
       "      <td>Under the direction of a ruthless instructor, ...</td>\n",
       "      <td>64.299990</td>\n",
       "      <td>...</td>\n",
       "      <td>0</td>\n",
       "      <td>0</td>\n",
       "      <td>0</td>\n",
       "      <td>1</td>\n",
       "      <td>0</td>\n",
       "      <td>0</td>\n",
       "      <td>0</td>\n",
       "      <td>0</td>\n",
       "      <td>0</td>\n",
       "      <td>0</td>\n",
       "    </tr>\n",
       "    <tr>\n",
       "      <th>3</th>\n",
       "      <td>7</td>\n",
       "      <td>NaN</td>\n",
       "      <td>14000000</td>\n",
       "      <td>[{'id': 27, 'name': 'Horror'}, {'id': 53, 'nam...</td>\n",
       "      <td>http://www.thepossessionmovie.com/</td>\n",
       "      <td>tt0431021</td>\n",
       "      <td>en</td>\n",
       "      <td>The Possession</td>\n",
       "      <td>A young girl buys an antique box at a yard sal...</td>\n",
       "      <td>7.286477</td>\n",
       "      <td>...</td>\n",
       "      <td>0</td>\n",
       "      <td>0</td>\n",
       "      <td>0</td>\n",
       "      <td>2</td>\n",
       "      <td>0</td>\n",
       "      <td>0</td>\n",
       "      <td>1</td>\n",
       "      <td>0</td>\n",
       "      <td>0</td>\n",
       "      <td>0</td>\n",
       "    </tr>\n",
       "    <tr>\n",
       "      <th>4</th>\n",
       "      <td>9</td>\n",
       "      <td>[{'id': 256377, 'name': 'The Muppet Collection...</td>\n",
       "      <td>0</td>\n",
       "      <td>[{'id': 28, 'name': 'Action'}, {'id': 35, 'nam...</td>\n",
       "      <td>NaN</td>\n",
       "      <td>tt0117110</td>\n",
       "      <td>en</td>\n",
       "      <td>Muppet Treasure Island</td>\n",
       "      <td>After telling the story of Flint's last journe...</td>\n",
       "      <td>6.902423</td>\n",
       "      <td>...</td>\n",
       "      <td>0</td>\n",
       "      <td>1</td>\n",
       "      <td>0</td>\n",
       "      <td>5</td>\n",
       "      <td>0</td>\n",
       "      <td>0</td>\n",
       "      <td>0</td>\n",
       "      <td>0</td>\n",
       "      <td>0</td>\n",
       "      <td>0</td>\n",
       "    </tr>\n",
       "    <tr>\n",
       "      <th>...</th>\n",
       "      <td>...</td>\n",
       "      <td>...</td>\n",
       "      <td>...</td>\n",
       "      <td>...</td>\n",
       "      <td>...</td>\n",
       "      <td>...</td>\n",
       "      <td>...</td>\n",
       "      <td>...</td>\n",
       "      <td>...</td>\n",
       "      <td>...</td>\n",
       "      <td>...</td>\n",
       "      <td>...</td>\n",
       "      <td>...</td>\n",
       "      <td>...</td>\n",
       "      <td>...</td>\n",
       "      <td>...</td>\n",
       "      <td>...</td>\n",
       "      <td>...</td>\n",
       "      <td>...</td>\n",
       "      <td>...</td>\n",
       "      <td>...</td>\n",
       "    </tr>\n",
       "    <tr>\n",
       "      <th>2799</th>\n",
       "      <td>2996</td>\n",
       "      <td>NaN</td>\n",
       "      <td>0</td>\n",
       "      <td>[{'id': 35, 'name': 'Comedy'}, {'id': 10749, '...</td>\n",
       "      <td>NaN</td>\n",
       "      <td>tt0109403</td>\n",
       "      <td>en</td>\n",
       "      <td>Chasers</td>\n",
       "      <td>Military men Rock Reilly and Eddie Devane are ...</td>\n",
       "      <td>9.853270</td>\n",
       "      <td>...</td>\n",
       "      <td>0</td>\n",
       "      <td>0</td>\n",
       "      <td>0</td>\n",
       "      <td>2</td>\n",
       "      <td>1</td>\n",
       "      <td>0</td>\n",
       "      <td>0</td>\n",
       "      <td>0</td>\n",
       "      <td>0</td>\n",
       "      <td>0</td>\n",
       "    </tr>\n",
       "    <tr>\n",
       "      <th>2800</th>\n",
       "      <td>2997</td>\n",
       "      <td>NaN</td>\n",
       "      <td>0</td>\n",
       "      <td>[{'id': 18, 'name': 'Drama'}, {'id': 10402, 'n...</td>\n",
       "      <td>NaN</td>\n",
       "      <td>tt2364975</td>\n",
       "      <td>sv</td>\n",
       "      <td>Vi är bäst!</td>\n",
       "      <td>Three girls in 1980s Stockholm decide to form ...</td>\n",
       "      <td>3.727996</td>\n",
       "      <td>...</td>\n",
       "      <td>0</td>\n",
       "      <td>1</td>\n",
       "      <td>0</td>\n",
       "      <td>2</td>\n",
       "      <td>0</td>\n",
       "      <td>0</td>\n",
       "      <td>0</td>\n",
       "      <td>0</td>\n",
       "      <td>0</td>\n",
       "      <td>0</td>\n",
       "    </tr>\n",
       "    <tr>\n",
       "      <th>2801</th>\n",
       "      <td>2998</td>\n",
       "      <td>NaN</td>\n",
       "      <td>65000000</td>\n",
       "      <td>[{'id': 80, 'name': 'Crime'}, {'id': 28, 'name...</td>\n",
       "      <td>NaN</td>\n",
       "      <td>tt0116908</td>\n",
       "      <td>en</td>\n",
       "      <td>The Long Kiss Goodnight</td>\n",
       "      <td>Samantha Caine, suburban homemaker, is the ide...</td>\n",
       "      <td>14.482345</td>\n",
       "      <td>...</td>\n",
       "      <td>0</td>\n",
       "      <td>0</td>\n",
       "      <td>1</td>\n",
       "      <td>4</td>\n",
       "      <td>0</td>\n",
       "      <td>0</td>\n",
       "      <td>1</td>\n",
       "      <td>0</td>\n",
       "      <td>0</td>\n",
       "      <td>0</td>\n",
       "    </tr>\n",
       "    <tr>\n",
       "      <th>2802</th>\n",
       "      <td>2999</td>\n",
       "      <td>NaN</td>\n",
       "      <td>42000000</td>\n",
       "      <td>[{'id': 35, 'name': 'Comedy'}, {'id': 10749, '...</td>\n",
       "      <td>http://www.alongcamepolly.com/</td>\n",
       "      <td>tt0343135</td>\n",
       "      <td>en</td>\n",
       "      <td>Along Came Polly</td>\n",
       "      <td>Reuben Feffer is a guy who's spent his entire ...</td>\n",
       "      <td>15.725542</td>\n",
       "      <td>...</td>\n",
       "      <td>0</td>\n",
       "      <td>0</td>\n",
       "      <td>0</td>\n",
       "      <td>2</td>\n",
       "      <td>1</td>\n",
       "      <td>0</td>\n",
       "      <td>0</td>\n",
       "      <td>0</td>\n",
       "      <td>0</td>\n",
       "      <td>0</td>\n",
       "    </tr>\n",
       "    <tr>\n",
       "      <th>2803</th>\n",
       "      <td>3000</td>\n",
       "      <td>NaN</td>\n",
       "      <td>35000000</td>\n",
       "      <td>[{'id': 53, 'name': 'Thriller'}, {'id': 28, 'n...</td>\n",
       "      <td>http://www.abductionthefilm.com/</td>\n",
       "      <td>tt1600195</td>\n",
       "      <td>en</td>\n",
       "      <td>Abduction</td>\n",
       "      <td>A young man sets out to uncover the truth abou...</td>\n",
       "      <td>10.512109</td>\n",
       "      <td>...</td>\n",
       "      <td>0</td>\n",
       "      <td>0</td>\n",
       "      <td>1</td>\n",
       "      <td>3</td>\n",
       "      <td>0</td>\n",
       "      <td>0</td>\n",
       "      <td>1</td>\n",
       "      <td>0</td>\n",
       "      <td>0</td>\n",
       "      <td>0</td>\n",
       "    </tr>\n",
       "  </tbody>\n",
       "</table>\n",
       "<p>2804 rows × 49 columns</p>\n",
       "</div>"
      ],
      "text/plain": [
       "        id                              belongs_to_collection    budget  \\\n",
       "0        1  [{'id': 313576, 'name': 'Hot Tub Time Machine ...  14000000   \n",
       "1        2  [{'id': 107674, 'name': 'The Princess Diaries ...  40000000   \n",
       "2        3                                                NaN   3300000   \n",
       "3        7                                                NaN  14000000   \n",
       "4        9  [{'id': 256377, 'name': 'The Muppet Collection...         0   \n",
       "...    ...                                                ...       ...   \n",
       "2799  2996                                                NaN         0   \n",
       "2800  2997                                                NaN         0   \n",
       "2801  2998                                                NaN  65000000   \n",
       "2802  2999                                                NaN  42000000   \n",
       "2803  3000                                                NaN  35000000   \n",
       "\n",
       "                                                 genres  \\\n",
       "0                        [{'id': 35, 'name': 'Comedy'}]   \n",
       "1     [{'id': 35, 'name': 'Comedy'}, {'id': 18, 'nam...   \n",
       "2                         [{'id': 18, 'name': 'Drama'}]   \n",
       "3     [{'id': 27, 'name': 'Horror'}, {'id': 53, 'nam...   \n",
       "4     [{'id': 28, 'name': 'Action'}, {'id': 35, 'nam...   \n",
       "...                                                 ...   \n",
       "2799  [{'id': 35, 'name': 'Comedy'}, {'id': 10749, '...   \n",
       "2800  [{'id': 18, 'name': 'Drama'}, {'id': 10402, 'n...   \n",
       "2801  [{'id': 80, 'name': 'Crime'}, {'id': 28, 'name...   \n",
       "2802  [{'id': 35, 'name': 'Comedy'}, {'id': 10749, '...   \n",
       "2803  [{'id': 53, 'name': 'Thriller'}, {'id': 28, 'n...   \n",
       "\n",
       "                                homepage    imdb_id original_language  \\\n",
       "0                                    NaN  tt2637294                en   \n",
       "1                                    NaN  tt0368933                en   \n",
       "2      http://sonyclassics.com/whiplash/  tt2582802                en   \n",
       "3     http://www.thepossessionmovie.com/  tt0431021                en   \n",
       "4                                    NaN  tt0117110                en   \n",
       "...                                  ...        ...               ...   \n",
       "2799                                 NaN  tt0109403                en   \n",
       "2800                                 NaN  tt2364975                sv   \n",
       "2801                                 NaN  tt0116908                en   \n",
       "2802      http://www.alongcamepolly.com/  tt0343135                en   \n",
       "2803    http://www.abductionthefilm.com/  tt1600195                en   \n",
       "\n",
       "                                original_title  \\\n",
       "0                       Hot Tub Time Machine 2   \n",
       "1     The Princess Diaries 2: Royal Engagement   \n",
       "2                                     Whiplash   \n",
       "3                               The Possession   \n",
       "4                       Muppet Treasure Island   \n",
       "...                                        ...   \n",
       "2799                                   Chasers   \n",
       "2800                               Vi är bäst!   \n",
       "2801                   The Long Kiss Goodnight   \n",
       "2802                          Along Came Polly   \n",
       "2803                                 Abduction   \n",
       "\n",
       "                                               overview  popularity  ...  \\\n",
       "0     When Lou, who has become the \"father of the In...    6.575393  ...   \n",
       "1     Mia Thermopolis is now a college graduate and ...    8.248895  ...   \n",
       "2     Under the direction of a ruthless instructor, ...   64.299990  ...   \n",
       "3     A young girl buys an antique box at a yard sal...    7.286477  ...   \n",
       "4     After telling the story of Flint's last journe...    6.902423  ...   \n",
       "...                                                 ...         ...  ...   \n",
       "2799  Military men Rock Reilly and Eddie Devane are ...    9.853270  ...   \n",
       "2800  Three girls in 1980s Stockholm decide to form ...    3.727996  ...   \n",
       "2801  Samantha Caine, suburban homemaker, is the ide...   14.482345  ...   \n",
       "2802  Reuben Feffer is a guy who's spent his entire ...   15.725542  ...   \n",
       "2803  A young man sets out to uncover the truth abou...   10.512109  ...   \n",
       "\n",
       "     movie music mystery name  romance science thriller tv war western  \n",
       "0        0     0       0    1        0       0        0  0   0       0  \n",
       "1        0     0       0    4        1       0        0  0   0       0  \n",
       "2        0     0       0    1        0       0        0  0   0       0  \n",
       "3        0     0       0    2        0       0        1  0   0       0  \n",
       "4        0     1       0    5        0       0        0  0   0       0  \n",
       "...    ...   ...     ...  ...      ...     ...      ... ..  ..     ...  \n",
       "2799     0     0       0    2        1       0        0  0   0       0  \n",
       "2800     0     1       0    2        0       0        0  0   0       0  \n",
       "2801     0     0       1    4        0       0        1  0   0       0  \n",
       "2802     0     0       0    2        1       0        0  0   0       0  \n",
       "2803     0     0       1    3        0       0        1  0   0       0  \n",
       "\n",
       "[2804 rows x 49 columns]"
      ]
     },
     "execution_count": 9,
     "metadata": {},
     "output_type": "execute_result"
    }
   ],
   "source": [
    "import sklearn\n",
    "from sklearn.feature_extraction.text import CountVectorizer\n",
    "\n",
    "cv = CountVectorizer()\n",
    "cv.fit(Data_3['genres'])\n",
    "vector = cv.fit_transform(Data_3['genres']).toarray()\n",
    "Genres_pd = pd.DataFrame(data = vector, columns=cv.get_feature_names())\n",
    "Genres_pd = Genres_pd.iloc[:,20:]\n",
    "Genres_pd_2 = Genres_pd.drop(labels = ['name','id'], axis = 1)\n",
    "Genres_pd_2['id'] = Data_3['imdb_id']\n",
    "\n",
    "#Adding the document matrix to our original data\n",
    "Data_5_org_set_index = Data_3.set_index(pd.Index(range(0,2804)))\n",
    "Data_4_genres_added = pd.concat([Data_5_org_set_index, Genres_pd],axis = 1)\n",
    "Data_4_genres_added"
   ]
  },
  {
   "cell_type": "code",
   "execution_count": null,
   "id": "3f5d36b9",
   "metadata": {},
   "outputs": [],
   "source": []
  },
  {
   "cell_type": "markdown",
   "id": "8e79371a",
   "metadata": {},
   "source": [
    "### Creating a binary homepage column ( Has a homepage or not)\n",
    "\n",
    "We are creating this column on the logic that if the movie has a homepage then more people would have heard about the movie which translates to more revenue"
   ]
  },
  {
   "cell_type": "code",
   "execution_count": 10,
   "id": "63481a6a",
   "metadata": {},
   "outputs": [
    {
     "data": {
      "text/plain": [
       "0    1909\n",
       "1     895\n",
       "Name: homepage_binary, dtype: int64"
      ]
     },
     "execution_count": 10,
     "metadata": {},
     "output_type": "execute_result"
    }
   ],
   "source": [
    "import numpy as np\n",
    "Data_4_genres_added['homepage_binary'] = 1\n",
    "Data_4_genres_added.loc[Data_4_genres_added['homepage'].isna()==True ,'homepage_binary'] = 0\n",
    "Data_4_genres_added['homepage_binary'].value_counts()"
   ]
  },
  {
   "cell_type": "markdown",
   "id": "8d321c13",
   "metadata": {},
   "source": [
    "### Creating a binary column for Translation ( Is the movie translated from the original language or not)\n",
    "\n",
    "The rationale to add this is because if the movie is translated then it might have a lower probability to be viewed by more people due to the fact that translation might not be done to encapsulate the emotions in the movie"
   ]
  },
  {
   "cell_type": "code",
   "execution_count": 11,
   "id": "3428d3a7",
   "metadata": {},
   "outputs": [
    {
     "data": {
      "text/plain": [
       "0    1969\n",
       "1     835\n",
       "Name: Translation_binary, dtype: int64"
      ]
     },
     "execution_count": 11,
     "metadata": {},
     "output_type": "execute_result"
    }
   ],
   "source": [
    "Data_4_genres_added['spoken_languages_2'] = Data_4_genres_added['spoken_languages'].str.replace(\"'\",'\"')\n",
    "Data_4_genres_added['spoken_languages_3'] = Data_4_genres_added['spoken_languages_2'].apply(json.loads)\n",
    "Data_4_genres_added['Translation_binary'] = 0\n",
    "\n",
    "#Checking if original_language has only one language or not\n",
    "Data_4_genres_added['original_language'].value_counts().sum()\n",
    "\n",
    "Data_4_genres_added['Translation_binary'] = 0\n",
    "\n",
    "for i in range(len(Data_4_genres_added)):\n",
    "    if len(Data_4_genres_added.loc[i,'spoken_languages_3']) > 1:\n",
    "        Data_4_genres_added.loc[i,'Translation_binary'] = 1\n",
    "\n",
    "Data_4_genres_added['Translation_binary'].value_counts()"
   ]
  },
  {
   "cell_type": "markdown",
   "id": "b1f78cc5",
   "metadata": {},
   "source": [
    "### Multicountry launch binary variable\n",
    "\n",
    "We would be creating another variable to see if the movie had an international launch or a domestic launch since we don't have a column for countries where the movie was launched , we will assume that production_countries is a proxy for international launch"
   ]
  },
  {
   "cell_type": "code",
   "execution_count": 12,
   "id": "245dd365",
   "metadata": {},
   "outputs": [],
   "source": [
    "Data_4_genres_added['production_countries_2'] = Data_4_genres_added['production_countries'].str.replace(\"'\",'\"')\n",
    "Data_4_genres_added['production_countries_3'] = Data_4_genres_added['production_countries_2'].apply(json.loads)\n",
    "\n",
    "Data_4_genres_added['international_launch'] = 0\n",
    "\n",
    "for i in range(len(Data_4_genres_added)):\n",
    "    if len(Data_4_genres_added.loc[i,'production_countries_3']) > 1:\n",
    "        Data_4_genres_added.loc[i,'international_launch'] = 1"
   ]
  },
  {
   "cell_type": "markdown",
   "id": "30885afe",
   "metadata": {},
   "source": [
    "### Parse the production countries into individual columns for each country\n",
    "\n",
    "We will be using this to see in which particular countries the movie has been produced/released ( under the assumption that release countries are equal to production countries )"
   ]
  },
  {
   "cell_type": "code",
   "execution_count": 13,
   "id": "6b0463a4",
   "metadata": {},
   "outputs": [
    {
     "name": "stderr",
     "output_type": "stream",
     "text": [
      "c:\\users\\harsh\\appdata\\local\\programs\\python\\python37\\lib\\site-packages\\sklearn\\utils\\deprecation.py:87: FutureWarning: Function get_feature_names is deprecated; get_feature_names is deprecated in 1.0 and will be removed in 1.2. Please use get_feature_names_out instead.\n",
      "  warnings.warn(msg, category=FutureWarning)\n"
     ]
    },
    {
     "data": {
      "text/plain": [
       "(2804, 130)"
      ]
     },
     "execution_count": 13,
     "metadata": {},
     "output_type": "execute_result"
    }
   ],
   "source": [
    "cv2 = CountVectorizer()\n",
    "something_5 = Data_4_genres_added['production_countries_3'][14]\n",
    "something_5[1]['name']\n",
    "\n",
    "empty_series = []\n",
    "Data_4_genres_added.loc[:,'countries_cleaned'] = 0\n",
    "\n",
    "for i in range(len(Data_4_genres_added)):\n",
    "    empty_series = []\n",
    "    for j in range(len(Data_4_genres_added['production_countries_3'][i])):\n",
    "        empty_series.append(Data_4_genres_added['production_countries_3'][i][j]['iso_3166_1'])\n",
    "        Data_4_genres_added.loc[i,'countries_cleaned'] = \" \".join(empty_series)\n",
    "        \n",
    "Data_4_genres_added.loc[:,'countries_cleaned']\n",
    "\n",
    "Prod_country = cv2.fit_transform(Data_4_genres_added['countries_cleaned']).toarray()\n",
    "countries_cleaned_2 = pd.DataFrame(data = Prod_country, columns = cv2.get_feature_names())\n",
    "\n",
    "Data_5_genres_added = pd.concat([countries_cleaned_2,Data_4_genres_added],axis = 1)\n",
    "Data_5_genres_added.shape"
   ]
  },
  {
   "cell_type": "markdown",
   "id": "7b0e5623",
   "metadata": {},
   "source": [
    "### Parsing keywords into individual columns\n",
    "\n",
    "Keywords are an essential part to get the essence of the movie and might help in prediction, for eg: Emotional movies do better than horror movies"
   ]
  },
  {
   "cell_type": "code",
   "execution_count": 14,
   "id": "4368b3a6",
   "metadata": {
    "scrolled": true
   },
   "outputs": [
    {
     "name": "stderr",
     "output_type": "stream",
     "text": [
      "c:\\users\\harsh\\appdata\\local\\programs\\python\\python37\\lib\\site-packages\\sklearn\\utils\\deprecation.py:87: FutureWarning: Function get_feature_names is deprecated; get_feature_names is deprecated in 1.0 and will be removed in 1.2. Please use get_feature_names_out instead.\n",
      "  warnings.warn(msg, category=FutureWarning)\n"
     ]
    }
   ],
   "source": [
    "cv3= CountVectorizer(min_df = 50,stop_words = 'english')\n",
    "Data_5_genres_added.loc[Data_5_genres_added['Keywords'].isna() == True, 'Keywords'] = \" \"\n",
    "Keywords_arr = cv3.fit_transform(Data_5_genres_added['Keywords']).toarray()\n",
    "Keywords_2 = pd.DataFrame(data = Keywords_arr,columns = cv3.get_feature_names())\n",
    "Keywords_3 = Keywords_2.drop(labels =Keywords_2.columns[0:20], axis = 1)\n",
    "Data_6 = pd.concat([Data_5_genres_added,Keywords_3],axis = 1)"
   ]
  },
  {
   "cell_type": "markdown",
   "id": "560d9f03",
   "metadata": {},
   "source": [
    "## Parsing the cast data into individual columns\n"
   ]
  },
  {
   "cell_type": "code",
   "execution_count": 15,
   "id": "4e748570",
   "metadata": {},
   "outputs": [
    {
     "data": {
      "text/plain": [
       "(2804, 1719)"
      ]
     },
     "execution_count": 15,
     "metadata": {},
     "output_type": "execute_result"
    }
   ],
   "source": [
    "import re\n",
    "\n",
    "pattern = \"(?<='name':) '[\\w√©-]*\\s[\\w]*[-\\w]*'\"\n",
    "\n",
    "cv4 = CountVectorizer(min_df = 5, token_pattern = pattern)\n",
    "Cast_arr = cv4.fit_transform(Data_6['cast']).toarray()\n",
    "Cast_4 = pd.DataFrame(data = Cast_arr, columns = cv4.get_feature_names())\n",
    "\n",
    "Data_7 = pd.concat([Data_6,Cast_4],axis = 1)\n",
    "Data_7.shape"
   ]
  },
  {
   "cell_type": "markdown",
   "id": "13ec042c",
   "metadata": {},
   "source": [
    "# Exploratory Data Analysis\n",
    "\n",
    "Since we have a lot of columns we need to first reduce the number of columns, we can do so by using a correlation matrix with revenue"
   ]
  },
  {
   "cell_type": "code",
   "execution_count": 16,
   "id": "4737cc14",
   "metadata": {},
   "outputs": [],
   "source": [
    "#Drop extra id columns\n",
    "Data_8 = Data_7.drop(labels = ['id','id','id'],axis = 1)\n",
    "Correlation_matrix = Data_8.corr()"
   ]
  },
  {
   "cell_type": "code",
   "execution_count": 17,
   "id": "6d33f2f2",
   "metadata": {
    "scrolled": true
   },
   "outputs": [
    {
     "name": "stdout",
     "output_type": "stream",
     "text": [
      "Requirement already satisfied: matplotlib in c:\\users\\harsh\\appdata\\local\\programs\\python\\python37\\lib\\site-packages (3.4.3)\n",
      "Requirement already satisfied: kiwisolver>=1.0.1 in c:\\users\\harsh\\appdata\\local\\programs\\python\\python37\\lib\\site-packages (from matplotlib) (1.3.2)\n",
      "Requirement already satisfied: python-dateutil>=2.7 in c:\\users\\harsh\\appdata\\local\\programs\\python\\python37\\lib\\site-packages (from matplotlib) (2.8.2)\n",
      "Requirement already satisfied: numpy>=1.16 in c:\\users\\harsh\\appdata\\local\\programs\\python\\python37\\lib\\site-packages (from matplotlib) (1.21.4)\n",
      "Requirement already satisfied: pillow>=6.2.0 in c:\\users\\harsh\\appdata\\local\\programs\\python\\python37\\lib\\site-packages (from matplotlib) (8.4.0)\n",
      "Requirement already satisfied: cycler>=0.10 in c:\\users\\harsh\\appdata\\local\\programs\\python\\python37\\lib\\site-packages (from matplotlib) (0.11.0)\n",
      "Requirement already satisfied: pyparsing>=2.2.1 in c:\\users\\harsh\\appdata\\local\\programs\\python\\python37\\lib\\site-packages (from matplotlib) (2.4.7)\n",
      "Requirement already satisfied: six>=1.5 in c:\\users\\harsh\\appdata\\local\\programs\\python\\python37\\lib\\site-packages (from python-dateutil>=2.7->matplotlib) (1.16.0)\n",
      "Requirement already satisfied: seaborn in c:\\users\\harsh\\appdata\\local\\programs\\python\\python37\\lib\\site-packages (0.11.2)\n",
      "Requirement already satisfied: scipy>=1.0 in c:\\users\\harsh\\appdata\\local\\programs\\python\\python37\\lib\\site-packages (from seaborn) (1.7.2)\n",
      "Requirement already satisfied: matplotlib>=2.2 in c:\\users\\harsh\\appdata\\local\\programs\\python\\python37\\lib\\site-packages (from seaborn) (3.4.3)\n",
      "Requirement already satisfied: pandas>=0.23 in c:\\users\\harsh\\appdata\\local\\programs\\python\\python37\\lib\\site-packages (from seaborn) (1.1.5)\n",
      "Requirement already satisfied: numpy>=1.15 in c:\\users\\harsh\\appdata\\local\\programs\\python\\python37\\lib\\site-packages (from seaborn) (1.21.4)\n",
      "Requirement already satisfied: kiwisolver>=1.0.1 in c:\\users\\harsh\\appdata\\local\\programs\\python\\python37\\lib\\site-packages (from matplotlib>=2.2->seaborn) (1.3.2)\n",
      "Requirement already satisfied: python-dateutil>=2.7 in c:\\users\\harsh\\appdata\\local\\programs\\python\\python37\\lib\\site-packages (from matplotlib>=2.2->seaborn) (2.8.2)\n",
      "Requirement already satisfied: cycler>=0.10 in c:\\users\\harsh\\appdata\\local\\programs\\python\\python37\\lib\\site-packages (from matplotlib>=2.2->seaborn) (0.11.0)\n",
      "Requirement already satisfied: pyparsing>=2.2.1 in c:\\users\\harsh\\appdata\\local\\programs\\python\\python37\\lib\\site-packages (from matplotlib>=2.2->seaborn) (2.4.7)\n",
      "Requirement already satisfied: pillow>=6.2.0 in c:\\users\\harsh\\appdata\\local\\programs\\python\\python37\\lib\\site-packages (from matplotlib>=2.2->seaborn) (8.4.0)\n",
      "Requirement already satisfied: pytz>=2017.2 in c:\\users\\harsh\\appdata\\local\\programs\\python\\python37\\lib\\site-packages (from pandas>=0.23->seaborn) (2021.3)\n",
      "Requirement already satisfied: six>=1.5 in c:\\users\\harsh\\appdata\\local\\programs\\python\\python37\\lib\\site-packages (from python-dateutil>=2.7->matplotlib>=2.2->seaborn) (1.16.0)\n"
     ]
    }
   ],
   "source": [
    "#Installing graphic Library\n",
    "!pip install matplotlib\n",
    "!pip install seaborn"
   ]
  },
  {
   "cell_type": "code",
   "execution_count": 18,
   "id": "eb1470d9",
   "metadata": {},
   "outputs": [
    {
     "data": {
      "text/plain": [
       "<AxesSubplot:>"
      ]
     },
     "execution_count": 18,
     "metadata": {},
     "output_type": "execute_result"
    },
    {
     "data": {
      "image/png": "[encoded data removed]",
      "text/plain": [
       "<Figure size 1440x1440 with 2 Axes>"
      ]
     },
     "metadata": {},
     "output_type": "display_data"
    }
   ],
   "source": [
    "#Visualizing the correlation heatmap\n",
    "import matplotlib.pyplot as plt\n",
    "import seaborn as sns\n",
    "\n",
    "#Selecting only those columns which have more than 0.1 correlation with revenue since the correlations are pretty low\n",
    "Correlation_matrix_2 = abs(Correlation_matrix.loc[Correlation_matrix.loc[Correlation_matrix['revenue']> 0.10,'revenue'].index,Correlation_matrix.loc[Correlation_matrix['revenue']> 0.1,'revenue'].index])\n",
    "sns.set_theme(style=\"white\")\n",
    "\n",
    "\n",
    "# Generate a mask for the upper triangle\n",
    "mask = np.triu(np.ones_like(Correlation_matrix_2, dtype=bool))\n",
    "\n",
    "# Set up the matplotlib figure\n",
    "f, ax = plt.subplots(figsize=(20, 20))\n",
    "\n",
    "# Generate a custom diverging colormap\n",
    "cmap = sns.diverging_palette(230, 20, as_cmap=True)\n",
    "\n",
    "\n",
    "# Draw the heatmap with the mask and correct aspect ratio\n",
    "sns.heatmap(Correlation_matrix_2, mask=mask, cmap=cmap, vmax=1)\n"
   ]
  },
  {
   "cell_type": "markdown",
   "id": "7bdecd54",
   "metadata": {},
   "source": [
    "We will be using 0.1 correlation as a first stage filter."
   ]
  },
  {
   "cell_type": "markdown",
   "id": "f725b64c",
   "metadata": {},
   "source": [
    "## Adding cast statistics (Number of actors, Number of female actors & Number of male actors) "
   ]
  },
  {
   "cell_type": "code",
   "execution_count": 19,
   "id": "6ecb431a",
   "metadata": {
    "scrolled": true
   },
   "outputs": [
    {
     "name": "stderr",
     "output_type": "stream",
     "text": [
      "c:\\users\\harsh\\appdata\\local\\programs\\python\\python37\\lib\\site-packages\\ipykernel_launcher.py:3: SettingWithCopyWarning: \n",
      "A value is trying to be set on a copy of a slice from a DataFrame.\n",
      "Try using .loc[row_indexer,col_indexer] = value instead\n",
      "\n",
      "See the caveats in the documentation: https://pandas.pydata.org/pandas-docs/stable/user_guide/indexing.html#returning-a-view-versus-a-copy\n",
      "  This is separate from the ipykernel package so we can avoid doing imports until\n",
      "c:\\users\\harsh\\appdata\\local\\programs\\python\\python37\\lib\\site-packages\\ipykernel_launcher.py:17: SettingWithCopyWarning: \n",
      "A value is trying to be set on a copy of a slice from a DataFrame.\n",
      "Try using .loc[row_indexer,col_indexer] = value instead\n",
      "\n",
      "See the caveats in the documentation: https://pandas.pydata.org/pandas-docs/stable/user_guide/indexing.html#returning-a-view-versus-a-copy\n",
      "c:\\users\\harsh\\appdata\\local\\programs\\python\\python37\\lib\\site-packages\\ipykernel_launcher.py:18: SettingWithCopyWarning: \n",
      "A value is trying to be set on a copy of a slice from a DataFrame.\n",
      "Try using .loc[row_indexer,col_indexer] = value instead\n",
      "\n",
      "See the caveats in the documentation: https://pandas.pydata.org/pandas-docs/stable/user_guide/indexing.html#returning-a-view-versus-a-copy\n"
     ]
    },
    {
     "data": {
      "text/html": [
       "<div>\n",
       "<style scoped>\n",
       "    .dataframe tbody tr th:only-of-type {\n",
       "        vertical-align: middle;\n",
       "    }\n",
       "\n",
       "    .dataframe tbody tr th {\n",
       "        vertical-align: top;\n",
       "    }\n",
       "\n",
       "    .dataframe thead th {\n",
       "        text-align: right;\n",
       "    }\n",
       "</style>\n",
       "<table border=\"1\" class=\"dataframe\">\n",
       "  <thead>\n",
       "    <tr style=\"text-align: right;\">\n",
       "      <th></th>\n",
       "      <th>num_male</th>\n",
       "      <th>num_female</th>\n",
       "      <th>num_actors</th>\n",
       "      <th>male-to-female</th>\n",
       "      <th>revenue</th>\n",
       "    </tr>\n",
       "  </thead>\n",
       "  <tbody>\n",
       "    <tr>\n",
       "      <th>num_male</th>\n",
       "      <td>1.000000</td>\n",
       "      <td>0.409518</td>\n",
       "      <td>0.752964</td>\n",
       "      <td>0.346790</td>\n",
       "      <td>0.383930</td>\n",
       "    </tr>\n",
       "    <tr>\n",
       "      <th>num_female</th>\n",
       "      <td>0.409518</td>\n",
       "      <td>1.000000</td>\n",
       "      <td>0.662725</td>\n",
       "      <td>-0.342629</td>\n",
       "      <td>0.225781</td>\n",
       "    </tr>\n",
       "    <tr>\n",
       "      <th>num_actors</th>\n",
       "      <td>0.752964</td>\n",
       "      <td>0.662725</td>\n",
       "      <td>1.000000</td>\n",
       "      <td>0.071827</td>\n",
       "      <td>0.345364</td>\n",
       "    </tr>\n",
       "    <tr>\n",
       "      <th>male-to-female</th>\n",
       "      <td>0.346790</td>\n",
       "      <td>-0.342629</td>\n",
       "      <td>0.071827</td>\n",
       "      <td>1.000000</td>\n",
       "      <td>0.076752</td>\n",
       "    </tr>\n",
       "    <tr>\n",
       "      <th>revenue</th>\n",
       "      <td>0.383930</td>\n",
       "      <td>0.225781</td>\n",
       "      <td>0.345364</td>\n",
       "      <td>0.076752</td>\n",
       "      <td>1.000000</td>\n",
       "    </tr>\n",
       "  </tbody>\n",
       "</table>\n",
       "</div>"
      ],
      "text/plain": [
       "                num_male  num_female  num_actors  male-to-female   revenue\n",
       "num_male        1.000000    0.409518    0.752964        0.346790  0.383930\n",
       "num_female      0.409518    1.000000    0.662725       -0.342629  0.225781\n",
       "num_actors      0.752964    0.662725    1.000000        0.071827  0.345364\n",
       "male-to-female  0.346790   -0.342629    0.071827        1.000000  0.076752\n",
       "revenue         0.383930    0.225781    0.345364        0.076752  1.000000"
      ]
     },
     "execution_count": 19,
     "metadata": {},
     "output_type": "execute_result"
    }
   ],
   "source": [
    "#Adding number of actors is simply adding the columns having the actors.\n",
    "num_actors = Data_8.iloc[:,188:1715].apply(sum,axis = 1)\n",
    "Data_8['num_actors_2'] = num_actors\n",
    "\n",
    "#Getting the genders of the cast since I have a hypothesis that the composition of cast might matter in revenue\n",
    "pattern_2 = \"(?<='gender': )(\\d)\"\n",
    "cast_stat = []\n",
    "for i in range(len(Data_8)):\n",
    "    cast_stat.append(list(map(int,(re.findall(pattern_2, Data_8['cast'][i])))))\n",
    "cast_num = list(map(len,cast_stat))\n",
    "def male_func(x):\n",
    "    return x == 2\n",
    "def female_func(x):\n",
    "    return x == 1\n",
    "cast_stat_male = [list(map(male_func, i)) for i in cast_stat]\n",
    "cast_stat_female = [list(map(female_func, i)) for i in cast_stat]\n",
    "Data_8['num_male'] = pd.Series(list(map(sum, cast_stat_male)))\n",
    "Data_8['num_female'] = pd.Series(list(map(sum, cast_stat_female)))\n",
    "Data_8['num_actors'] = pd.Series(cast_num)\n",
    "Data_8['male-to-female'] = pd.Series(Data_8['num_male']/Data_8['num_female'])\n",
    "       \n",
    "#We observe that these factors indeed have a high correlation hence we will be using these factors(excluding male to female ratio since it has low correlation with revenue) as well in our modelling\n",
    "Data_8[['num_male','num_female','num_actors','male-to-female','revenue']].corr()"
   ]
  },
  {
   "cell_type": "code",
   "execution_count": 20,
   "id": "8353f64f",
   "metadata": {},
   "outputs": [],
   "source": [
    "correlation_matrix_3 = Data_8.corr()"
   ]
  },
  {
   "cell_type": "code",
   "execution_count": 21,
   "id": "6a834a36",
   "metadata": {},
   "outputs": [],
   "source": [
    "#Reducing dimensionality by dropping columns\n",
    "Data_9 = Data_8.loc[:,correlation_matrix_3.loc[abs(correlation_matrix_3['revenue']) > 0.1,'revenue'].index]"
   ]
  },
  {
   "cell_type": "markdown",
   "id": "8ed0175d",
   "metadata": {},
   "source": [
    "### For budget and revenue will have to assume that these are in dollars since even if we find the real numbers(in dollar currency) the impact would be miniscule\n",
    "\n",
    "However we have to take into account the inflation factor if our test set has movies with several years since inflation can increase or decrease the revenue and budget of the movie"
   ]
  },
  {
   "cell_type": "code",
   "execution_count": 22,
   "id": "91682946",
   "metadata": {},
   "outputs": [],
   "source": [
    "#Checking the years in test set\n",
    "import datetime\n",
    "test_data = pd.read_csv(\"C:/Users/harsh/OneDrive/Documents/Kaggle/TMDB Forecasting/tmdb-box-office-prediction/test.csv\")\n",
    "test_data['release_date']\n",
    "\n",
    "'''Yes there are multiple years hence we will have to take inflation factor, \n",
    "taking the inflation factor depends on taking a base that will be the same for both test and train\n",
    "'''\n",
    "##Seeing the minimum years in both test and train set\n",
    "#Test is 1922\n",
    "release_date_test = pd.to_datetime(test_data['release_date'],format = \"%m/%d/%y\")\n",
    "release_date_test[release_date_test.dt.year >2021] -= pd.DateOffset(years = 100)\n",
    "min(release_date_test.dt.year)\n",
    "\n",
    "Data_9['release_date'] = Data_8['release_date']\n",
    "\n",
    "#Train is 1924\n",
    "release_date_train = pd.to_datetime(Data_9['release_date'],format = \"%m/%d/%y\")\n",
    "release_date_train[release_date_train.dt.year >2021] -= pd.DateOffset(years = 100)\n",
    "min(release_date_train.dt.year)\n",
    "Data_9['year'] = release_date_train.dt.year\n",
    "\n",
    "#Hence we should be using 1900 or anything below 1922 as our inflation factor.\n",
    "inflation_data = pd.read_csv(\"C:/Users/harsh/OneDrive/Documents/Kaggle/TMDB Forecasting/tmdb-box-office-prediction/inflation_data.csv\")\n",
    "inflation_data.head()\n",
    "\n",
    "#Dividing the revenue and budget by the inflation factor of their respective years\n",
    "Data_10 = pd.merge(Data_9,inflation_data, left_on = 'year',right_on = 'year')\n",
    "Data_10['inflation_adjusted_revenue'] = Data_10['revenue']/Data_10['Factor']\n",
    "Data_10['inflation_adjusted_budget'] = Data_10['budget']/Data_10['Factor']"
   ]
  },
  {
   "cell_type": "markdown",
   "id": "39e51c4e",
   "metadata": {},
   "source": [
    "# Modelling\n",
    "\n",
    "## We will start with lasso regression for our modelling"
   ]
  },
  {
   "cell_type": "code",
   "execution_count": 23,
   "id": "c300d5b9",
   "metadata": {},
   "outputs": [
    {
     "name": "stderr",
     "output_type": "stream",
     "text": [
      "c:\\users\\harsh\\appdata\\local\\programs\\python\\python37\\lib\\site-packages\\ipykernel_launcher.py:14: DeprecationWarning: The default dtype for empty Series will be 'object' instead of 'float64' in a future version. Specify a dtype explicitly to silence this warning.\n",
      "  \n"
     ]
    },
    {
     "data": {
      "image/png": "[encoded data removed]",
      "text/plain": [
       "<Figure size 432x288 with 1 Axes>"
      ]
     },
     "metadata": {},
     "output_type": "display_data"
    }
   ],
   "source": [
    "from sklearn.linear_model import Lasso\n",
    "from sklearn.linear_model import lasso_path\n",
    "from sklearn.linear_model import LassoCV\n",
    "from sklearn.model_selection import cross_validate\n",
    "from sklearn.model_selection import train_test_split\n",
    "import matplotlib.pyplot as plt\n",
    "\n",
    "\n",
    "#Seeing the average revenues of each category to see if we need to do stratified sampling \n",
    "Data_10['family_2'] = Data_10.iloc[:,11]\n",
    "Data_11 = Data_10.drop(labels = 'family', axis = 1)\n",
    "categories = ['action','adventure', 'animation', 'drama', 'fantasy', 'fiction','science','family_2']\n",
    "\n",
    "Cat_revenue = pd.Series()\n",
    "for i in range(len(categories)):\n",
    "    Cat_revenue = Cat_revenue.append(pd.Series(pd.Series(Data_10['inflation_adjusted_revenue']*Data_10[categories[i]]).mean())) \n",
    "Cat_revenue.index = categories\n",
    "\n",
    "#Plotting the categories\n",
    "fig = plt.figure()\n",
    "ax = fig.add_axes([0,0,1,1])\n",
    "ax.bar(Cat_revenue.index,Cat_revenue)\n",
    "plt.show()\n",
    "\n",
    "#So we see that different categories of movies do infact have different average revenues but how do we ascertain if the movie is in one particular category ? "
   ]
  },
  {
   "cell_type": "markdown",
   "id": "d2e992ee",
   "metadata": {},
   "source": [
    "## Creating a test and train dataset"
   ]
  },
  {
   "cell_type": "code",
   "execution_count": 24,
   "id": "87399ff7",
   "metadata": {},
   "outputs": [],
   "source": [
    "Data_test_without_target = Data_11.drop(labels = ['inflation_adjusted_revenue','name','release_date','num_actors_2','revenue','year','amount','budget','Factor'],axis = 1)\n",
    "X_train, X_test, y_train, y_test = train_test_split(Data_test_without_target, np.log(Data_11['inflation_adjusted_revenue']), test_size=0.4, random_state=0)"
   ]
  },
  {
   "cell_type": "markdown",
   "id": "9e1fc2a0",
   "metadata": {},
   "source": [
    "## Modelling with Lasso"
   ]
  },
  {
   "cell_type": "code",
   "execution_count": 25,
   "id": "27f2f74a",
   "metadata": {
    "scrolled": false
   },
   "outputs": [
    {
     "name": "stdout",
     "output_type": "stream",
     "text": [
      "[-3.41752235e-01  1.03471076e+00  3.04695537e-02  1.51572717e-02\n",
      "  6.83108287e-02  3.96070574e-01  2.95694926e-01 -2.20300628e-01\n",
      "  0.00000000e+00 -5.60961106e-03 -0.00000000e+00 -1.60516882e-01\n",
      "  2.58786535e-02  8.64098489e-02  4.06535320e-01 -1.09378458e+00\n",
      "  9.58940957e-02  6.05614226e-02 -0.00000000e+00 -1.61369622e+00\n",
      " -9.77375490e-02  0.00000000e+00 -3.43880846e-01 -2.57427877e+00\n",
      "  0.00000000e+00  0.00000000e+00 -0.00000000e+00 -4.14293609e-01\n",
      " -0.00000000e+00 -2.03364099e+00 -0.00000000e+00  0.00000000e+00\n",
      "  3.91276125e-01 -0.00000000e+00 -7.34646317e-01 -8.05711350e-01\n",
      "  0.00000000e+00  0.00000000e+00 -0.00000000e+00 -0.00000000e+00\n",
      "  0.00000000e+00  5.71229254e-01 -3.53906834e-01  1.88371153e-01\n",
      " -0.00000000e+00  0.00000000e+00  2.31996116e-02  0.00000000e+00\n",
      " -0.00000000e+00  0.00000000e+00 -0.00000000e+00 -0.00000000e+00\n",
      "  3.49323574e-01 -0.00000000e+00 -1.32157963e+00 -6.31640851e-02\n",
      "  0.00000000e+00 -0.00000000e+00  0.00000000e+00 -7.69205495e-01\n",
      " -1.11585453e+00 -0.00000000e+00 -0.00000000e+00 -0.00000000e+00\n",
      "  0.00000000e+00 -0.00000000e+00  3.30606204e-01 -0.00000000e+00\n",
      " -0.00000000e+00 -0.00000000e+00  0.00000000e+00 -0.00000000e+00\n",
      " -0.00000000e+00 -1.09374854e+00 -4.93176296e-02  0.00000000e+00\n",
      " -0.00000000e+00  4.47217046e-01 -0.00000000e+00 -8.87336004e-01\n",
      "  3.70335060e-02  4.31911176e-02 -0.00000000e+00  5.15899617e-05\n",
      "  9.41497489e-02]\n",
      "Total Coefficients: 85\n",
      "Non Zero Coefficients: 43\n"
     ]
    },
    {
     "name": "stderr",
     "output_type": "stream",
     "text": [
      "c:\\users\\harsh\\appdata\\local\\programs\\python\\python37\\lib\\site-packages\\sklearn\\linear_model\\_base.py:145: FutureWarning: 'normalize' was deprecated in version 1.0 and will be removed in 1.2.\n",
      "If you wish to scale the data, use Pipeline with a StandardScaler in a preprocessing stage. To reproduce the previous behavior:\n",
      "\n",
      "from sklearn.pipeline import make_pipeline\n",
      "\n",
      "model = make_pipeline(StandardScaler(with_mean=False), Lasso())\n",
      "\n",
      "If you wish to pass a sample_weight parameter, you need to pass it as a fit parameter to each step of the pipeline as follows:\n",
      "\n",
      "kwargs = {s[0] + '__sample_weight': sample_weight for s in model.steps}\n",
      "model.fit(X, y, **kwargs)\n",
      "\n",
      "Set parameter alpha to: original_alpha * np.sqrt(n_samples). \n",
      "  FutureWarning,\n"
     ]
    }
   ],
   "source": [
    "from sklearn import linear_model\n",
    "lasso_1 = linear_model.Lasso(alpha = 0.001,normalize = True)\n",
    "lasso_1.fit(X_train,y_train)\n",
    "print(lasso_1.coef_)\n",
    "print(\"Total Coefficients:\", len(lasso_1.coef_))\n",
    "print(\"Non Zero Coefficients:\", np.count_nonzero(lasso_1.coef_))"
   ]
  },
  {
   "cell_type": "markdown",
   "id": "a49acf1e",
   "metadata": {},
   "source": [
    "## Cross validation with Lasso"
   ]
  },
  {
   "cell_type": "code",
   "execution_count": 26,
   "id": "d384ce39",
   "metadata": {
    "scrolled": true
   },
   "outputs": [
    {
     "name": "stdout",
     "output_type": "stream",
     "text": [
      "[-0.00000000e+00  1.04100116e+00  3.05845643e-02  1.72097008e-02\n",
      "  1.31946085e-01  3.71410283e-01  3.96836521e-01 -2.92269262e-01\n",
      "  0.00000000e+00 -6.67025172e-02 -1.35269477e-16 -2.28148783e-01\n",
      "  0.00000000e+00  1.04497360e-01  3.02530189e-01 -1.03319653e+00\n",
      "  8.34819199e-02  0.00000000e+00 -0.00000000e+00 -0.00000000e+00\n",
      " -0.00000000e+00 -0.00000000e+00 -0.00000000e+00 -0.00000000e+00\n",
      "  0.00000000e+00 -0.00000000e+00 -0.00000000e+00 -0.00000000e+00\n",
      " -0.00000000e+00 -0.00000000e+00 -0.00000000e+00 -0.00000000e+00\n",
      "  0.00000000e+00 -0.00000000e+00 -0.00000000e+00 -0.00000000e+00\n",
      " -0.00000000e+00  0.00000000e+00 -0.00000000e+00 -0.00000000e+00\n",
      "  0.00000000e+00  0.00000000e+00 -0.00000000e+00  0.00000000e+00\n",
      " -0.00000000e+00 -0.00000000e+00  0.00000000e+00  0.00000000e+00\n",
      " -0.00000000e+00 -0.00000000e+00 -0.00000000e+00 -0.00000000e+00\n",
      "  0.00000000e+00 -0.00000000e+00 -0.00000000e+00 -0.00000000e+00\n",
      " -0.00000000e+00 -0.00000000e+00 -0.00000000e+00 -0.00000000e+00\n",
      " -0.00000000e+00 -0.00000000e+00 -0.00000000e+00 -0.00000000e+00\n",
      "  0.00000000e+00 -0.00000000e+00  0.00000000e+00 -0.00000000e+00\n",
      " -0.00000000e+00 -0.00000000e+00 -0.00000000e+00 -0.00000000e+00\n",
      " -0.00000000e+00 -0.00000000e+00 -0.00000000e+00  0.00000000e+00\n",
      " -0.00000000e+00  0.00000000e+00 -0.00000000e+00 -0.00000000e+00\n",
      "  5.17443051e-02  6.85213354e-02 -1.10090211e-02  4.84646519e-05\n",
      "  9.31074436e-02]\n"
     ]
    }
   ],
   "source": [
    "from sklearn.linear_model import LassoCV\n",
    "from sklearn.linear_model import lasso_path\n",
    "lasso_2 = LassoCV(alphas = np.arange(0.00001,0.1,0.001))\n",
    "lasso_2.fit(X_train,y_train)\n",
    "print(lasso_2.coef_)\n",
    "EPSILON = 1e-4"
   ]
  },
  {
   "cell_type": "code",
   "execution_count": 27,
   "id": "eba71fb4",
   "metadata": {
    "scrolled": true
   },
   "outputs": [
    {
     "data": {
      "image/png": "[encoded data removed]",
      "text/plain": [
       "<Figure size 432x288 with 1 Axes>"
      ]
     },
     "metadata": {},
     "output_type": "display_data"
    }
   ],
   "source": [
    "#Display results\n",
    "plt.figure()\n",
    "plt.plot(lasso_2.alphas_,lasso_2.mse_path_.mean(axis=-1),\"k\",label=\"Average across the folds\",linewidth=2)\n",
    "plt.legend()\n",
    "plt.axvline(x = lasso_2.alpha_)\n",
    "plt.xlabel(r\"$\\alpha$\")\n",
    "plt.ylabel(\"Mean square error\")\n",
    "plt.title(\"Mean square error on each fold: coordinate descent\")\n",
    "plt.axis(\"tight\")\n",
    "plt.show()"
   ]
  },
  {
   "cell_type": "code",
   "execution_count": 28,
   "id": "94a18e1b",
   "metadata": {},
   "outputs": [
    {
     "ename": "NameError",
     "evalue": "name 'cross_val_score' is not defined",
     "output_type": "error",
     "traceback": [
      "\u001b[1;31m---------------------------------------------------------------------------\u001b[0m",
      "\u001b[1;31mNameError\u001b[0m                                 Traceback (most recent call last)",
      "\u001b[1;32m~\\AppData\\Local\\Temp/ipykernel_11020/2255334062.py\u001b[0m in \u001b[0;36m<module>\u001b[1;34m\u001b[0m\n\u001b[0;32m      1\u001b[0m \u001b[1;31m#Lasso Model Evaluation\u001b[0m\u001b[1;33m\u001b[0m\u001b[1;33m\u001b[0m\u001b[0m\n\u001b[1;32m----> 2\u001b[1;33m \u001b[0mscores_lasso\u001b[0m \u001b[1;33m=\u001b[0m \u001b[0mcross_val_score\u001b[0m\u001b[1;33m(\u001b[0m\u001b[0mlasso_2\u001b[0m\u001b[1;33m,\u001b[0m \u001b[0mX_train\u001b[0m\u001b[1;33m,\u001b[0m\u001b[0my_train\u001b[0m\u001b[1;33m,\u001b[0m \u001b[0mcv\u001b[0m \u001b[1;33m=\u001b[0m \u001b[1;36m10\u001b[0m\u001b[1;33m)\u001b[0m\u001b[1;33m\u001b[0m\u001b[0m\n\u001b[0m\u001b[0;32m      3\u001b[0m \u001b[0mscores_lasso_test\u001b[0m \u001b[1;33m=\u001b[0m \u001b[0mcross_val_score\u001b[0m\u001b[1;33m(\u001b[0m\u001b[0mlasso_2\u001b[0m\u001b[1;33m,\u001b[0m \u001b[0mX_test\u001b[0m\u001b[1;33m,\u001b[0m\u001b[0my_test\u001b[0m\u001b[1;33m,\u001b[0m \u001b[0mcv\u001b[0m \u001b[1;33m=\u001b[0m \u001b[1;36m10\u001b[0m\u001b[1;33m)\u001b[0m\u001b[1;33m\u001b[0m\u001b[0m\n\u001b[0;32m      4\u001b[0m \u001b[0mprint\u001b[0m\u001b[1;33m(\u001b[0m\u001b[1;34m\"Mean score {:.2f} with a standard deviation of {:.2f} \"\u001b[0m\u001b[1;33m.\u001b[0m\u001b[0mformat\u001b[0m\u001b[1;33m(\u001b[0m\u001b[0mscores_lasso_test\u001b[0m\u001b[1;33m.\u001b[0m\u001b[0mmean\u001b[0m\u001b[1;33m(\u001b[0m\u001b[1;33m)\u001b[0m\u001b[1;33m,\u001b[0m \u001b[0mscores_lasso_test\u001b[0m\u001b[1;33m.\u001b[0m\u001b[0mstd\u001b[0m\u001b[1;33m(\u001b[0m\u001b[1;33m)\u001b[0m\u001b[1;33m)\u001b[0m\u001b[1;33m)\u001b[0m\u001b[1;33m\u001b[0m\u001b[0m\n",
      "\u001b[1;31mNameError\u001b[0m: name 'cross_val_score' is not defined"
     ]
    }
   ],
   "source": [
    "#Lasso Model Evaluation\n",
    "scores_lasso = cross_val_score(lasso_2, X_train,y_train, cv = 10)\n",
    "scores_lasso_test = cross_val_score(lasso_2, X_test,y_test, cv = 10)\n",
    "print(\"Mean score {:.2f} with a standard deviation of {:.2f} \".format(scores_lasso_test.mean(), scores_lasso_test.std()))"
   ]
  },
  {
   "cell_type": "markdown",
   "id": "7a27e9e7",
   "metadata": {},
   "source": [
    "As you can see the alpha we observe is awfully high, hence we need to use some other modelling method to carry out the analysis\n",
    "\n",
    "## Modelling with Linear regression"
   ]
  },
  {
   "cell_type": "code",
   "execution_count": 29,
   "id": "f335fe45",
   "metadata": {},
   "outputs": [
    {
     "name": "stdout",
     "output_type": "stream",
     "text": [
      "Mean score 0.24 with a standard deviation of 0.09 \n"
     ]
    }
   ],
   "source": [
    "from sklearn.model_selection import cross_val_score\n",
    "linear_model_1 = linear_model.LinearRegression()\n",
    "linear_model_1.fit(X_train,y_train)\n",
    "scores_linear_regression = cross_val_score(linear_model_1, X_test, y_test, cv=10)\n",
    "print(\"Mean score {:.2f} with a standard deviation of {:.2f} \".format(scores_linear_regression.mean(), scores_linear_regression.std()))"
   ]
  },
  {
   "cell_type": "markdown",
   "id": "00fd16a0",
   "metadata": {},
   "source": [
    "## Transformations to the target and other variables"
   ]
  },
  {
   "cell_type": "code",
   "execution_count": 30,
   "id": "e4eea2c5",
   "metadata": {},
   "outputs": [
    {
     "data": {
      "image/png": "[encoded data removed]",
      "text/plain": [
       "<Figure size 432x288 with 4 Axes>"
      ]
     },
     "metadata": {},
     "output_type": "display_data"
    }
   ],
   "source": [
    "import matplotlib.pyplot as plt\n",
    "num_bins = 100\n",
    "\n",
    "def square(x):\n",
    "    return (x)**2\n",
    "\n",
    "\n",
    "fig,axs = plt.subplots(2,2)\n",
    "fig.suptitle('Histogram plots')\n",
    "axs[0,0].hist(Data_11['inflation_adjusted_revenue'], bins = 30)\n",
    "axs[0,1].hist(Data_11['inflation_adjusted_budget'], bins = 30)\n",
    "axs[1,0].hist(np.log(Data_11['inflation_adjusted_revenue']+0.00000000000000000000000000000000000001), bins = 30)\n",
    "\n",
    "\n",
    "axs[0,0].set_xlabel(\"Inflation adjusted revenue\")\n",
    "axs[0,1].set_xlabel(\"Inflation adjusted budget\")\n",
    "axs[1,0].set_xlabel(\"Log transformed Inflation adjusted revenue\")\n",
    "axs[1,1].set_xlabel(\"Log transformed Inflation adjusted budget\")\n",
    "plt.show()\n",
    "\n",
    "#Hence from the graphs we see we can receive better results with a log transformed graph"
   ]
  },
  {
   "cell_type": "markdown",
   "id": "b5905e43",
   "metadata": {},
   "source": [
    "## Modelling through Random Forest"
   ]
  },
  {
   "cell_type": "code",
   "execution_count": 31,
   "id": "5b0e5e68",
   "metadata": {},
   "outputs": [
    {
     "name": "stdout",
     "output_type": "stream",
     "text": [
      "Mean score 0.40 with a standard deviation of 0.06 \n"
     ]
    }
   ],
   "source": [
    "from sklearn.ensemble import RandomForestRegressor\n",
    "random_forest_1 = RandomForestRegressor(n_estimators = 25)\n",
    "random_forest_1.fit(X_train,y_train)\n",
    "random_forest_1_score = cross_val_score(random_forest_1,X_train,y_train,cv = 10)\n",
    "print(\"Mean score {:.2f} with a standard deviation of {:.2f} \".format(random_forest_1_score.mean(), random_forest_1_score.std()))"
   ]
  },
  {
   "cell_type": "markdown",
   "id": "11dd60ba",
   "metadata": {},
   "source": [
    "## Modelling through Adaboost model"
   ]
  },
  {
   "cell_type": "code",
   "execution_count": 32,
   "id": "a699bd85",
   "metadata": {},
   "outputs": [
    {
     "name": "stdout",
     "output_type": "stream",
     "text": [
      "Mean score 0.23 with a standard deviation of 0.11 \n"
     ]
    }
   ],
   "source": [
    "from sklearn.ensemble import AdaBoostRegressor\n",
    "Adaboost_1 = AdaBoostRegressor()\n",
    "Adaboost_1.fit(X_train,y_train)\n",
    "Adaboost_1_score = cross_val_score(Adaboost_1,X_train,y_train, cv = 10)\n",
    "print(\"Mean score {:.2f} with a standard deviation of {:.2f} \".format(Adaboost_1_score.mean(), Adaboost_1_score.std()))"
   ]
  },
  {
   "cell_type": "markdown",
   "id": "b50ef1f3",
   "metadata": {},
   "source": [
    "## Modelling through Post Lasso model"
   ]
  },
  {
   "cell_type": "code",
   "execution_count": 33,
   "id": "3429be62",
   "metadata": {},
   "outputs": [
    {
     "name": "stdout",
     "output_type": "stream",
     "text": [
      "Mean score 0.26 with a standard deviation of 0.18 \n"
     ]
    }
   ],
   "source": [
    "coefficients_for_LR = lasso_2.feature_names_in_[lasso_2.coef_!=0]\n",
    "linear_model_2 = linear_model.LinearRegression()\n",
    "linear_model_2.fit(X_train[coefficients_for_LR],y_train)\n",
    "linear_model_2_score = cross_val_score(linear_model_2,X_train[coefficients_for_LR],y_train, cv = 10)\n",
    "print(\"Mean score {:.2f} with a standard deviation of {:.2f} \".format(linear_model_2_score.mean(), linear_model_2_score.std()))"
   ]
  },
  {
   "cell_type": "markdown",
   "id": "fc1e5f71",
   "metadata": {},
   "source": [
    "## Model Selection"
   ]
  },
  {
   "cell_type": "code",
   "execution_count": 34,
   "id": "60298dda",
   "metadata": {},
   "outputs": [
    {
     "data": {
      "image/png": "[encoded data removed]",
      "text/plain": [
       "<Figure size 720x504 with 1 Axes>"
      ]
     },
     "metadata": {},
     "output_type": "display_data"
    }
   ],
   "source": [
    "#Model accuracy score (in-sample)\n",
    "Models = [lasso_2, linear_model_1,random_forest_1,Adaboost_1]\n",
    "Models_text = [\"lasso\", \"linear_model\",\"random_forest\",\"Adaboost\",\"Post_Lasso\"]\n",
    "Model_score_in_sample = pd.DataFrame()\n",
    "for i in range(len(Models)):\n",
    "    Model_score_in_sample[Models_text[i]] = cross_val_score(Models[i],X_train,y_train, cv = 10)\n",
    "\n",
    "Model_score_in_sample['Post_Lasso'] = linear_model_2_score\n",
    "fig = plt.figure(figsize = (10,7))\n",
    "plt.boxplot(Model_score_in_sample)\n",
    "plt.ylim(0,0.6)\n",
    "plt.ylabel(\"In-Sample R^2\")\n",
    "plt.xlabel(\"Model\")\n",
    "plt.xticks(np.arange(1,6),Models_text)\n",
    "plt.show()"
   ]
  },
  {
   "cell_type": "code",
   "execution_count": 35,
   "id": "f918de80",
   "metadata": {
    "scrolled": true
   },
   "outputs": [
    {
     "data": {
      "image/png": "[encoded data removed]",
      "text/plain": [
       "<Figure size 720x504 with 1 Axes>"
      ]
     },
     "metadata": {},
     "output_type": "display_data"
    }
   ],
   "source": [
    "#Model accuracy score (Out-sample)\n",
    "Models = [lasso_2, linear_model_1,random_forest_1,Adaboost_1]\n",
    "Models_text = [\"lasso\", \"linear_model\",\"random_forest\",\"Adaboost\",\"Post_Lasso\"]\n",
    "Model_score_out_sample = pd.DataFrame()\n",
    "for i in range(len(Models)):\n",
    "    Model_score_out_sample[Models_text[i]] = cross_val_score(Models[i],X_test,y_test, cv = 10)\n",
    "\n",
    "Model_score_out_sample['Post_Lasso'] = cross_val_score(linear_model_2,X_test[coefficients_for_LR],y_test,cv = 10)\n",
    "fig = plt.figure(figsize = (10,7))\n",
    "plt.boxplot(Model_score_out_sample)\n",
    "plt.ylim(0,0.6)\n",
    "plt.ylabel(\"Out-Sample R^2\")\n",
    "plt.xlabel(\"Model\")\n",
    "plt.xticks(np.arange(1,6),Models_text)\n",
    "plt.show()"
   ]
  },
  {
   "cell_type": "markdown",
   "id": "096727d5",
   "metadata": {},
   "source": [
    "#### Since we observe that random_forest gives us good scores in both In sample and out of sample R^2 hence we will use Random forest to predict the revenue."
   ]
  }
 ],
 "metadata": {
  "kernelspec": {
   "display_name": "Python 3 (ipykernel)",
   "language": "python",
   "name": "python3"
  },
  "language_info": {
   "codemirror_mode": {
    "name": "ipython",
    "version": 3
   },
   "file_extension": ".py",
   "mimetype": "text/x-python",
   "name": "python",
   "nbconvert_exporter": "python",
   "pygments_lexer": "ipython3",
   "version": "3.7.0"
  }
 },
 "nbformat": 4,
 "nbformat_minor": 5
}
